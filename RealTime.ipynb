{
 "cells": [
  {
   "cell_type": "code",
   "execution_count": 1,
   "metadata": {},
   "outputs": [],
   "source": [
    "from tensorflow.keras.models import load_model\n",
    "from tensorflow.keras.applications.mobilenet_v2 import preprocess_input\n",
    "from tensorflow.keras.preprocessing.image import img_to_array\n",
    "import numpy as np\n",
    "import cv2"
   ]
  },
  {
   "cell_type": "code",
   "execution_count": 2,
   "metadata": {},
   "outputs": [],
   "source": [
    "# load the face detection model\n",
    "prototxtPath = './OpenCV_face_detector/architecture.prototxt'\n",
    "weightsPath = './OpenCV_face_detector/weights.caffemodel'\n",
    "faceDetector = cv2.dnn.readNet(prototxtPath, weightsPath)\n",
    "# Now loading the face mask detector model we constructed earlier\n",
    "maskDetector = load_model(\"./mask_detector.model\")\n",
    "\n",
    "WINDOWTITLE = \"Real Time Mask Detection\""
   ]
  },
  {
   "cell_type": "code",
   "execution_count": 3,
   "metadata": {},
   "outputs": [],
   "source": [
    "def SetColorAndLabel(improper, masked, unmasked):\n",
    "    label=\"\"\n",
    "    color=(0,0,0)\n",
    "    if masked == max(improper, masked, unmasked):\n",
    "        label = \"Masked\"\n",
    "        color = (0, 255, 0)\n",
    "    elif unmasked == max(improper, masked, unmasked):\n",
    "        label = \"Unmasked\"\n",
    "        color = (0, 0, 255)\n",
    "    else:\n",
    "        label = \"Improper\"\n",
    "        color = (0 , 255, 255)\n",
    "    \n",
    "    #Set display label to predicted class and confidence in predicted class\n",
    "    pred = \"{:.2f}\".format(max(improper, masked, unmasked)*100) #convert to 2dp string\n",
    "    label = f'{label} - conf:{pred}%'\n",
    "    return(label,color)"
   ]
  },
  {
   "cell_type": "code",
   "execution_count": 4,
   "metadata": {},
   "outputs": [],
   "source": [
    "def GetPredictionAndLocation(frame, faceDetector, maskDetector):\n",
    "\tfaces = []\n",
    "\tlocations = []\n",
    "\tpredictions = []\n",
    "\t# Getting the dimensions of the frame to construct a blob \n",
    "\t(height, width) = frame.shape[:2]\n",
    "\tblob = cv2.dnn.blobFromImage(frame, 1.0, (224, 224),(104.0, 177.0, 123.0))\n",
    "\n",
    "\tfaceDetector.setInput(blob)\n",
    "\tdetections = faceDetector.forward()\n",
    "\n",
    "\tfor i in range(0, detections.shape[2]):\n",
    "\t\tconfidence = detections[0, 0, i, 2]\n",
    "\t\t# filtering out the week portions \n",
    "\t\tif confidence > 0.5:\n",
    "\t\t\tbox = detections[0, 0, i, 3:7] * np.array([width, height, width, height])\n",
    "\t\t\t(startX, startY, endX, endY) = box.astype(\"int\")\n",
    "\n",
    "\t\t\t(startX, startY) = (max(0, startX), max(0, startY))\n",
    "\t\t\t(endX, endY) = (min(width - 1, endX), min(height - 1, endY))\n",
    "\n",
    "\t\t\t# Converting the color from BGR to RGB\n",
    "\t\t\tface = frame[startY:endY, startX:endX]\n",
    "\t\t\tface = cv2.cvtColor(face, cv2.COLOR_BGR2RGB)\n",
    "\t\t\t# Preprocess extracted image to be compatible with mask detector model \n",
    "\t\t\tface = cv2.resize(face, (224, 224))\n",
    "\t\t\tface = img_to_array(face)\n",
    "\t\t\tface = preprocess_input(face)\n",
    "\n",
    "\t\t\tfaces.append(face)\n",
    "\t\t\tlocations.append((startX, startY, endX, endY))\n",
    "\n",
    "\t# Looking that is there any face to detect\n",
    "\tif len(faces) > 0:\n",
    "\t\t# Now the prediction is on batch base. Not on pictures one by one\n",
    "\t\tfaces = np.array(faces, dtype=\"float32\")\n",
    "\t\tpredictions = maskDetector.predict(faces, batch_size=32)\n",
    "\t# Now returning 2 lists containing location and prediction of all the face detected\n",
    "\treturn (locations , predictions)\n"
   ]
  },
  {
   "cell_type": "code",
   "execution_count": 7,
   "metadata": {},
   "outputs": [
    {
     "name": "stdout",
     "output_type": "stream",
     "text": [
      "Opening Camera\n",
      "Closing Camera\n"
     ]
    }
   ],
   "source": [
    "#Start capturing using camera\n",
    "print(\"Opening Camera\")\n",
    "vid = cv2.VideoCapture(0)\n",
    "novid = cv2.imread('./OpenCV_face_detector/video-not-working.png')\n",
    "while True:\n",
    "\t#grab frame from camera\n",
    "\tret, frame = vid.read()\n",
    "\tif not ret:\n",
    "\t\t#if no frame captured, display error image\n",
    "\t\tcv2.imshow(WINDOWTITLE, novid)\n",
    "\telse:\n",
    "\t\t#Detect any faces in the frame. Predict mask class of detected face. Return location and prediction\n",
    "\t\t(locations , predictions) = GetPredictionAndLocation(frame, faceDetector, maskDetector)\n",
    "\n",
    "\t\t#For each face detected, get the location and prediction scores\n",
    "\t\tfor (box, pred) in zip(locations , predictions):\n",
    "\t\t\t#get binding box dimensions\n",
    "\t\t\t(startX, startY, endX, endY) = box\n",
    "\t\t\t#get prediction score for each class\n",
    "\t\t\t(improper, masked, unmasked) = pred\n",
    "\t\t\t#set class with max prediction as final answer of model -> Adjust colors appropriately\n",
    "\t\t\t(label,color)=SetColorAndLabel(improper, masked, unmasked)\n",
    "\n",
    "\t\t\t\n",
    "\t\t\t#display class and confidence vertically above face\n",
    "\t\t\tcv2.putText(frame, label, (startX, startY - 5), cv2.FONT_HERSHEY_PLAIN, 0.8, color)\n",
    "\t\t\t#display rectangle at location of detected face\n",
    "\t\t\tcv2.rectangle(frame, (startX, startY), (endX, endY), color)\n",
    "\t\t\tcv2.imshow(WINDOWTITLE, frame)\n",
    "\n",
    "\tkey = cv2.waitKey(1) & 0xFF\n",
    "\n",
    "\t#To Quit the Stream press (q)\n",
    "\tif key == ord(\"q\"):\n",
    "\t\tbreak\n",
    "\n",
    "#Release camera, close openCV windows\n",
    "print(\"Closing Camera\")\n",
    "vid.release()\n",
    "cv2.destroyAllWindows()"
   ]
  },
  {
   "cell_type": "code",
   "execution_count": 5,
   "metadata": {},
   "outputs": [],
   "source": [
    "#Incase of crash, execute this block\n",
    "vid.release()\n",
    "cv2.destroyAllWindows()"
   ]
  }
 ],
 "metadata": {
  "kernelspec": {
   "display_name": "Python 3.10.4 64-bit",
   "language": "python",
   "name": "python3"
  },
  "language_info": {
   "codemirror_mode": {
    "name": "ipython",
    "version": 3
   },
   "file_extension": ".py",
   "mimetype": "text/x-python",
   "name": "python",
   "nbconvert_exporter": "python",
   "pygments_lexer": "ipython3",
   "version": "3.10.4"
  },
  "orig_nbformat": 4,
  "vscode": {
   "interpreter": {
    "hash": "7f2633a0dd9fad194999ffc17b7b93627efd4bccf6144e14bc5fef7dfd0c6355"
   }
  }
 },
 "nbformat": 4,
 "nbformat_minor": 2
}
